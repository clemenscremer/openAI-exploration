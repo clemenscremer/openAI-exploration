{
 "cells": [
  {
   "cell_type": "code",
   "execution_count": 1,
   "metadata": {},
   "outputs": [],
   "source": [
    "import openai\n",
    "import os\n",
    "import pandas as pd\t\n",
    "\n",
    "\n",
    "# provide api key (accessed here from Environment Variables)\n",
    "openai.api_key = os.getenv(\"OPENAI_API_KEY\")"
   ]
  },
  {
   "attachments": {},
   "cell_type": "markdown",
   "metadata": {},
   "source": [
    "# inspection and overview of openai available models\n"
   ]
  },
  {
   "cell_type": "code",
   "execution_count": 5,
   "metadata": {},
   "outputs": [
    {
     "data": {
      "text/html": [
       "<div>\n",
       "<style scoped>\n",
       "    .dataframe tbody tr th:only-of-type {\n",
       "        vertical-align: middle;\n",
       "    }\n",
       "\n",
       "    .dataframe tbody tr th {\n",
       "        vertical-align: top;\n",
       "    }\n",
       "\n",
       "    .dataframe thead th {\n",
       "        text-align: right;\n",
       "    }\n",
       "</style>\n",
       "<table border=\"1\" class=\"dataframe\">\n",
       "  <thead>\n",
       "    <tr style=\"text-align: right;\">\n",
       "      <th></th>\n",
       "      <th>id</th>\n",
       "      <th>object</th>\n",
       "      <th>created</th>\n",
       "      <th>owned_by</th>\n",
       "      <th>permission</th>\n",
       "      <th>root</th>\n",
       "      <th>parent</th>\n",
       "    </tr>\n",
       "  </thead>\n",
       "  <tbody>\n",
       "    <tr>\n",
       "      <th>0</th>\n",
       "      <td>babbage</td>\n",
       "      <td>model</td>\n",
       "      <td>1649358449</td>\n",
       "      <td>openai</td>\n",
       "      <td>[{'id': 'modelperm-49FUp5v084tBB49tC4z8LPH5', ...</td>\n",
       "      <td>babbage</td>\n",
       "      <td>None</td>\n",
       "    </tr>\n",
       "    <tr>\n",
       "      <th>1</th>\n",
       "      <td>davinci</td>\n",
       "      <td>model</td>\n",
       "      <td>1649359874</td>\n",
       "      <td>openai</td>\n",
       "      <td>[{'id': 'modelperm-U6ZwlyAd0LyMk4rcMdz33Yc3', ...</td>\n",
       "      <td>davinci</td>\n",
       "      <td>None</td>\n",
       "    </tr>\n",
       "    <tr>\n",
       "      <th>2</th>\n",
       "      <td>gpt-3.5-turbo-0301</td>\n",
       "      <td>model</td>\n",
       "      <td>1677649963</td>\n",
       "      <td>openai</td>\n",
       "      <td>[{'id': 'modelperm-ms2DpLH5OCOZpUikJ4sRQNkh', ...</td>\n",
       "      <td>gpt-3.5-turbo-0301</td>\n",
       "      <td>None</td>\n",
       "    </tr>\n",
       "    <tr>\n",
       "      <th>3</th>\n",
       "      <td>text-davinci-003</td>\n",
       "      <td>model</td>\n",
       "      <td>1669599635</td>\n",
       "      <td>openai-internal</td>\n",
       "      <td>[{'id': 'modelperm-6CAfTW5IbFpnlziQKoDilahq', ...</td>\n",
       "      <td>text-davinci-003</td>\n",
       "      <td>None</td>\n",
       "    </tr>\n",
       "    <tr>\n",
       "      <th>4</th>\n",
       "      <td>babbage-code-search-code</td>\n",
       "      <td>model</td>\n",
       "      <td>1651172509</td>\n",
       "      <td>openai-dev</td>\n",
       "      <td>[{'id': 'modelperm-4qRnA3Hj8HIJbgo0cGbcmErn', ...</td>\n",
       "      <td>babbage-code-search-code</td>\n",
       "      <td>None</td>\n",
       "    </tr>\n",
       "    <tr>\n",
       "      <th>...</th>\n",
       "      <td>...</td>\n",
       "      <td>...</td>\n",
       "      <td>...</td>\n",
       "      <td>...</td>\n",
       "      <td>...</td>\n",
       "      <td>...</td>\n",
       "      <td>...</td>\n",
       "    </tr>\n",
       "    <tr>\n",
       "      <th>64</th>\n",
       "      <td>davinci-instruct-beta:2.0.0</td>\n",
       "      <td>model</td>\n",
       "      <td>1629501914</td>\n",
       "      <td>openai</td>\n",
       "      <td>[{'id': 'snapperm-c70U4TBfiOD839xptP5pJzyc', '...</td>\n",
       "      <td>davinci-instruct-beta:2.0.0</td>\n",
       "      <td>None</td>\n",
       "    </tr>\n",
       "    <tr>\n",
       "      <th>65</th>\n",
       "      <td>text-ada:001</td>\n",
       "      <td>model</td>\n",
       "      <td>1641949608</td>\n",
       "      <td>system</td>\n",
       "      <td>[{'id': 'snapperm-d2PSnwFG1Yn9of6PvrrhkBcU', '...</td>\n",
       "      <td>text-ada:001</td>\n",
       "      <td>None</td>\n",
       "    </tr>\n",
       "    <tr>\n",
       "      <th>66</th>\n",
       "      <td>text-davinci:001</td>\n",
       "      <td>model</td>\n",
       "      <td>1641943966</td>\n",
       "      <td>system</td>\n",
       "      <td>[{'id': 'snapperm-Fj1O3zkKXOQy6AkcfQXRKcWA', '...</td>\n",
       "      <td>text-davinci:001</td>\n",
       "      <td>None</td>\n",
       "    </tr>\n",
       "    <tr>\n",
       "      <th>67</th>\n",
       "      <td>text-curie:001</td>\n",
       "      <td>model</td>\n",
       "      <td>1641955047</td>\n",
       "      <td>system</td>\n",
       "      <td>[{'id': 'snapperm-BI9TAT6SCj43JRsUb9CYadsz', '...</td>\n",
       "      <td>text-curie:001</td>\n",
       "      <td>None</td>\n",
       "    </tr>\n",
       "    <tr>\n",
       "      <th>68</th>\n",
       "      <td>text-babbage:001</td>\n",
       "      <td>model</td>\n",
       "      <td>1642018370</td>\n",
       "      <td>openai</td>\n",
       "      <td>[{'id': 'snapperm-7oP3WFr9x7qf5xb3eZrVABAH', '...</td>\n",
       "      <td>text-babbage:001</td>\n",
       "      <td>None</td>\n",
       "    </tr>\n",
       "  </tbody>\n",
       "</table>\n",
       "<p>69 rows × 7 columns</p>\n",
       "</div>"
      ],
      "text/plain": [
       "                             id object     created         owned_by  \\\n",
       "0                       babbage  model  1649358449           openai   \n",
       "1                       davinci  model  1649359874           openai   \n",
       "2            gpt-3.5-turbo-0301  model  1677649963           openai   \n",
       "3              text-davinci-003  model  1669599635  openai-internal   \n",
       "4      babbage-code-search-code  model  1651172509       openai-dev   \n",
       "..                          ...    ...         ...              ...   \n",
       "64  davinci-instruct-beta:2.0.0  model  1629501914           openai   \n",
       "65                 text-ada:001  model  1641949608           system   \n",
       "66             text-davinci:001  model  1641943966           system   \n",
       "67               text-curie:001  model  1641955047           system   \n",
       "68             text-babbage:001  model  1642018370           openai   \n",
       "\n",
       "                                           permission  \\\n",
       "0   [{'id': 'modelperm-49FUp5v084tBB49tC4z8LPH5', ...   \n",
       "1   [{'id': 'modelperm-U6ZwlyAd0LyMk4rcMdz33Yc3', ...   \n",
       "2   [{'id': 'modelperm-ms2DpLH5OCOZpUikJ4sRQNkh', ...   \n",
       "3   [{'id': 'modelperm-6CAfTW5IbFpnlziQKoDilahq', ...   \n",
       "4   [{'id': 'modelperm-4qRnA3Hj8HIJbgo0cGbcmErn', ...   \n",
       "..                                                ...   \n",
       "64  [{'id': 'snapperm-c70U4TBfiOD839xptP5pJzyc', '...   \n",
       "65  [{'id': 'snapperm-d2PSnwFG1Yn9of6PvrrhkBcU', '...   \n",
       "66  [{'id': 'snapperm-Fj1O3zkKXOQy6AkcfQXRKcWA', '...   \n",
       "67  [{'id': 'snapperm-BI9TAT6SCj43JRsUb9CYadsz', '...   \n",
       "68  [{'id': 'snapperm-7oP3WFr9x7qf5xb3eZrVABAH', '...   \n",
       "\n",
       "                           root parent  \n",
       "0                       babbage   None  \n",
       "1                       davinci   None  \n",
       "2            gpt-3.5-turbo-0301   None  \n",
       "3              text-davinci-003   None  \n",
       "4      babbage-code-search-code   None  \n",
       "..                          ...    ...  \n",
       "64  davinci-instruct-beta:2.0.0   None  \n",
       "65                 text-ada:001   None  \n",
       "66             text-davinci:001   None  \n",
       "67               text-curie:001   None  \n",
       "68             text-babbage:001   None  \n",
       "\n",
       "[69 rows x 7 columns]"
      ]
     },
     "execution_count": 5,
     "metadata": {},
     "output_type": "execute_result"
    }
   ],
   "source": [
    "# get list of models\n",
    "model_list = openai.Model.list()\n",
    "# convert json to dataframe\n",
    "df = pd.json_normalize(model_list.data)\t\n",
    "df.to_excel(\"../model_list.xlsx\")\n",
    "df"
   ]
  },
  {
   "attachments": {},
   "cell_type": "markdown",
   "metadata": {},
   "source": [
    "## Conversation (GPT3.x)\n",
    "\n",
    "### initialize model\n",
    "\n",
    "The model posesses two different roles:\n",
    "1. system\n",
    "2. user \n",
    "\n",
    "**set context and behavior of the system**<br>\n",
    "as first message to system"
   ]
  },
  {
   "cell_type": "code",
   "execution_count": 1,
   "metadata": {},
   "outputs": [],
   "source": [
    "# initialization outside of chat loop to keep order of queries\n",
    "messages = [\n",
    "    # system message first, it helps set the behavior of the assistant (default)\n",
    "    {\"role\": \"system\", \n",
    "     \"content\": \"You are a kind, helpful assistant.\"}, # could also be sarcastic troll\n",
    "]"
   ]
  },
  {
   "attachments": {},
   "cell_type": "markdown",
   "metadata": {},
   "source": [
    "### chat\n",
    "**start (infinite) loop for user input**"
   ]
  },
  {
   "cell_type": "code",
   "execution_count": 3,
   "metadata": {},
   "outputs": [],
   "source": [
    "while True:\n",
    "    message = input(\"👨‍💻: \")\n",
    "    # define user role and process input\n",
    "    if message:\n",
    "        messages.append(\n",
    "            {\"role\": \"user\", \"content\": message},\n",
    "            )\n",
    "    # define assistant model and process output\n",
    "    chat = openai.ChatCompletion.create(\n",
    "        model=\"gpt-3.5-turbo\", # \"gpt-3.5-turbo\" same as in current chatgpt app \n",
    "        messages=messages,\n",
    "        max_tokens=1024, # limit max. token spending\n",
    "        temperature=1,   # randomness of assistant. default = 1 \n",
    "        )\n",
    "    # extract first response [0]\n",
    "    reply = chat.choices[0].message.content\n",
    "    # print assistant response\n",
    "    print(f\"🤖: {reply}\")\n",
    "    messages.append(\n",
    "        {\"role\": \"assistant\", \"content\": reply}\n",
    "        )\n",
    "    "
   ]
  },
  {
   "cell_type": "code",
   "execution_count": 3,
   "metadata": {},
   "outputs": [],
   "source": [
    "input(\"Press Enter to continue...\")"
   ]
  },
  {
   "attachments": {},
   "cell_type": "markdown",
   "metadata": {},
   "source": [
    "## Image generation (Dall-E)\n",
    "\n",
    "### from scratch"
   ]
  },
  {
   "cell_type": "code",
   "execution_count": 11,
   "metadata": {},
   "outputs": [],
   "source": [
    "prompt_for_image = \"3d render of a cute robotic kraken with six arms. Microphone in one arm paintbrush in another arm, sketchbook in another arm, computer in another arm\"\n",
    "#\"3d render of a cute octopus painting, writing reading, coding and listening at the same time\"\n",
    "number_of_images = 1 # 1-10 can be requested at a time\n",
    "image_size = \"1024x1024\" # 256x256, 512x512, 1024x1024, 2048x2048\n",
    "\n",
    "\n",
    "# execute\n",
    "response = openai.Image.create(\n",
    "  prompt=prompt_for_image,\n",
    "  n=number_of_images,\n",
    "  size=image_size\n",
    ")\n",
    "\n",
    "# return as url (alternatively as base64)\n",
    "image_url = response['data'][0]['url']"
   ]
  },
  {
   "cell_type": "code",
   "execution_count": null,
   "metadata": {},
   "outputs": [],
   "source": [
    "image_path = \"../dalle_images/\""
   ]
  },
  {
   "cell_type": "code",
   "execution_count": 20,
   "metadata": {},
   "outputs": [],
   "source": [
    "import requests\n",
    "\n",
    "image_path = \"../dalle_images/\"\n",
    "# image name without whitespaces and points and max 20 characters\n",
    "image_name = image_path + prompt_for_image.replace(\" \", \"_\").replace(\".\", \"\")[:35]\n",
    "\n",
    "img_data = requests.get(image_url).content\n",
    "with open(f'{image_name}.jpg', 'wb') as handler:\n",
    "    handler.write(img_data)"
   ]
  },
  {
   "attachments": {},
   "cell_type": "markdown",
   "metadata": {},
   "source": [
    "### edit and variation of existing image \n"
   ]
  },
  {
   "cell_type": "code",
   "execution_count": null,
   "metadata": {},
   "outputs": [],
   "source": [
    "POST https://api.openai.com/v1/images/edits\n",
    "POST https://api.openai.com/v1/images/variations"
   ]
  },
  {
   "attachments": {},
   "cell_type": "markdown",
   "metadata": {},
   "source": [
    "## speech input (Whisper)\n",
    "\n",
    "- transcribe\n",
    "- translate"
   ]
  },
  {
   "cell_type": "code",
   "execution_count": null,
   "metadata": {},
   "outputs": [],
   "source": [
    "# record speech from pc-microphone\n"
   ]
  },
  {
   "attachments": {},
   "cell_type": "markdown",
   "metadata": {},
   "source": [
    "### transcribe"
   ]
  },
  {
   "cell_type": "code",
   "execution_count": null,
   "metadata": {},
   "outputs": [],
   "source": [
    "# Note: you need to be using OpenAI Python v0.27.0 for the code below to work\n",
    "audio_file= open(\"/path/to/file/audio.mp3\", \"rb\")\n",
    "transcript = openai.Audio.transcribe(\"whisper-1\", audio_file)"
   ]
  },
  {
   "attachments": {},
   "cell_type": "markdown",
   "metadata": {},
   "source": [
    "### translate"
   ]
  },
  {
   "attachments": {},
   "cell_type": "markdown",
   "metadata": {},
   "source": [
    "-----\n",
    "\n",
    "# File handling\n"
   ]
  },
  {
   "attachments": {},
   "cell_type": "markdown",
   "metadata": {},
   "source": [
    "### overview of files"
   ]
  },
  {
   "cell_type": "code",
   "execution_count": null,
   "metadata": {},
   "outputs": [],
   "source": [
    "!curl https://api.openai.com/v1/files -H 'Authorization: Bearer OPENAI_API_KEY'"
   ]
  }
 ],
 "metadata": {
  "kernelspec": {
   "display_name": "base",
   "language": "python",
   "name": "python3"
  },
  "language_info": {
   "codemirror_mode": {
    "name": "ipython",
    "version": 3
   },
   "file_extension": ".py",
   "mimetype": "text/x-python",
   "name": "python",
   "nbconvert_exporter": "python",
   "pygments_lexer": "ipython3",
   "version": "3.10.9"
  },
  "orig_nbformat": 4
 },
 "nbformat": 4,
 "nbformat_minor": 2
}
