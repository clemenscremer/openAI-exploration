{
 "cells": [
  {
   "attachments": {},
   "cell_type": "markdown",
   "metadata": {},
   "source": [
    "# Embeddings\n",
    "\n",
    "only possible on some models (e.g. ada)\n",
    "https://platform.openai.com/docs/guides/embeddings/what-are-embeddings.\n",
    "\n",
    "\n",
    "I'll use the second generation model ``text-embedding-ada-002`` (cl100k_base) with max. 8191 input tokens and 1536 output dimensions.\n",
    "\n",
    "Costwise it should roughly do 3000 pages per dollar. ($0.0004 / 1K tokens). With [\"getting-started-with-mikeio\"](https://dhi.github.io/getting-started-with-mikeio/intro.html) it should be around 19000 tokens so $0.0076 (19000/1000*0.0004)\n"
   ]
  },
  {
   "cell_type": "code",
   "execution_count": 12,
   "metadata": {},
   "outputs": [],
   "source": [
    "import openai\n",
    "import os\n",
    "import pandas as pd\n"
   ]
  },
  {
   "cell_type": "code",
   "execution_count": 5,
   "metadata": {},
   "outputs": [],
   "source": [
    "openai.api_key = os.getenv(\"OPENAI_API_KEY\")"
   ]
  },
  {
   "attachments": {},
   "cell_type": "markdown",
   "metadata": {},
   "source": [
    "### gather data"
   ]
  },
  {
   "attachments": {},
   "cell_type": "markdown",
   "metadata": {},
   "source": [
    "**crawl url**"
   ]
  },
  {
   "cell_type": "code",
   "execution_count": 7,
   "metadata": {},
   "outputs": [],
   "source": [
    "import requests\n",
    "import re\n",
    "import urllib.request\n",
    "from bs4 import BeautifulSoup\n",
    "from collections import deque\n",
    "from html.parser import HTMLParser\n",
    "from urllib.parse import urlparse\n",
    "import os\n",
    "\n",
    "# Regex pattern to match a URL\n",
    "HTTP_URL_PATTERN = r'^http[s]*://.+'\n",
    "\n",
    "domain = \"github.com/clemenscremer/\" # <- put your domain to be crawled\n",
    "full_url = \"https://github.com/clemenscremer/making_friends_with_quarto/tree/main\" # <- put your domain to be crawled with https or http, Hyperlinks on this subdomain will also be crawled\n",
    "\n",
    "# Create a class to parse the HTML and get the hyperlinks\n",
    "class HyperlinkParser(HTMLParser):\n",
    "    def __init__(self):\n",
    "        super().__init__()\n",
    "        # Create a list to store the hyperlinks\n",
    "        self.hyperlinks = []\n",
    "\n",
    "    # Override the HTMLParser's handle_starttag method to get the hyperlinks\n",
    "    def handle_starttag(self, tag, attrs):\n",
    "        attrs = dict(attrs)\n",
    "\n",
    "        # If the tag is an anchor tag and it has an href attribute, add the href attribute to the list of hyperlinks\n",
    "        if tag == \"a\" and \"href\" in attrs:\n",
    "            self.hyperlinks.append(attrs[\"href\"])\n",
    "            \n",
    "# Function to get the hyperlinks from a URL\n",
    "def get_hyperlinks(url):\n",
    "    \n",
    "    # Try to open the URL and read the HTML\n",
    "    try:\n",
    "        # Open the URL and read the HTML\n",
    "        with urllib.request.urlopen(url) as response:\n",
    "\n",
    "            # If the response is not HTML, return an empty list\n",
    "            if not response.info().get('Content-Type').startswith(\"text/html\"):\n",
    "                return []\n",
    "            \n",
    "            # Decode the HTML\n",
    "            html = response.read().decode('utf-8')\n",
    "    except Exception as e:\n",
    "        print(e)\n",
    "        return []\n",
    "\n",
    "    # Create the HTML Parser and then Parse the HTML to get hyperlinks\n",
    "    parser = HyperlinkParser()\n",
    "    parser.feed(html)\n",
    "\n",
    "    return parser.hyperlinks\n",
    "\n",
    "# Function to get the hyperlinks from a URL that are within the same domain\n",
    "def get_domain_hyperlinks(local_domain, url):\n",
    "    clean_links = []\n",
    "    for link in set(get_hyperlinks(url)):\n",
    "        clean_link = None\n",
    "\n",
    "        # If the link is a URL, check if it is within the same domain\n",
    "        if re.search(HTTP_URL_PATTERN, link):\n",
    "            # Parse the URL and check if the domain is the same\n",
    "            url_obj = urlparse(link)\n",
    "            if url_obj.netloc == local_domain:\n",
    "                clean_link = link\n",
    "\n",
    "        # If the link is not a URL, check if it is a relative link\n",
    "        else:\n",
    "            if link.startswith(\"/\"):\n",
    "                link = link[1:]\n",
    "            elif link.startswith(\"#\") or link.startswith(\"mailto:\"):\n",
    "                continue\n",
    "            clean_link = \"https://\" + local_domain + \"/\" + link\n",
    "\n",
    "        if clean_link is not None:\n",
    "            if clean_link.endswith(\"/\"):\n",
    "                clean_link = clean_link[:-1]\n",
    "            clean_links.append(clean_link)\n",
    "\n",
    "    # Return the list of hyperlinks that are within the same domain\n",
    "    return list(set(clean_links))\n",
    "    \n",
    "def crawl(url):\n",
    "    # Parse the URL and get the domain\n",
    "    local_domain = urlparse(url).netloc\n",
    "\n",
    "    # Create a queue to store the URLs to crawl\n",
    "    queue = deque([url])\n",
    "\n",
    "    # Create a set to store the URLs that have already been seen (no duplicates)\n",
    "    seen = set([url])\n",
    "\n",
    "    # Create a directory to store the text files\n",
    "    if not os.path.exists(\"text/\"):\n",
    "            os.mkdir(\"text/\")\n",
    "\n",
    "    if not os.path.exists(\"text/\"+local_domain+\"/\"):\n",
    "            os.mkdir(\"text/\" + local_domain + \"/\")\n",
    "\n",
    "    # Create a directory to store the csv files\n",
    "    if not os.path.exists(\"processed\"):\n",
    "            os.mkdir(\"processed\")\n",
    "\n",
    "    # While the queue is not empty, continue crawling\n",
    "    while queue:\n",
    "\n",
    "        # Get the next URL from the queue\n",
    "        url = queue.pop()\n",
    "        print(url) # for debugging and to see the progress\n",
    "\n",
    "        # Save text from the url to a <url>.txt file\n",
    "        with open('text/'+local_domain+'/'+url[8:].replace(\"/\", \"_\") + \".txt\", \"w\", encoding=\"UTF-8\") as f:\n",
    "\n",
    "            # Get the text from the URL using BeautifulSoup\n",
    "            soup = BeautifulSoup(requests.get(url).text, \"html.parser\")\n",
    "\n",
    "            # Get the text but remove the tags\n",
    "            text = soup.get_text()\n",
    "\n",
    "            # If the crawler gets to a page that requires JavaScript, it will stop the crawl\n",
    "            if (\"You need to enable JavaScript to run this app.\" in text):\n",
    "                print(\"Unable to parse page \" + url + \" due to JavaScript being required\")\n",
    "            \n",
    "            # Otherwise, write the text to the file in the text directory\n",
    "            f.write(text)\n",
    "\n",
    "        # Get the hyperlinks from the URL and add them to the queue\n",
    "        for link in get_domain_hyperlinks(local_domain, url):\n",
    "            if link not in seen:\n",
    "                queue.append(link)\n",
    "                seen.add(link)"
   ]
  },
  {
   "cell_type": "code",
   "execution_count": null,
   "metadata": {},
   "outputs": [],
   "source": [
    "crawl(full_url)"
   ]
  },
  {
   "attachments": {},
   "cell_type": "markdown",
   "metadata": {},
   "source": [
    "**crawl local folder** (containing python, markdown and jupyter notebooks)"
   ]
  },
  {
   "cell_type": "code",
   "execution_count": null,
   "metadata": {},
   "outputs": [],
   "source": [
    "import os\n",
    "import json\n",
    "\n",
    "def extract_text_from_md(file_path):\n",
    "    with open(file_path, \"r\", encoding=\"utf-8\") as f:\n",
    "        return f.read()\n",
    "\n",
    "def extract_text_from_ipynb(file_path):\n",
    "    with open(file_path, \"r\", encoding=\"utf-8\") as f:\n",
    "        data = json.load(f)\n",
    "\n",
    "    text = []\n",
    "    for cell in data[\"cells\"]:\n",
    "        if cell[\"cell_type\"] in [\"code\", \"markdown\"]:\n",
    "            text.extend(cell[\"source\"])\n",
    "\n",
    "    return \"\\n\".join(text)\n",
    "\n",
    "def extract_text_from_py(file_path):\n",
    "    with open(file_path, \"r\", encoding=\"utf-8\") as f:\n",
    "        return f.read()\n",
    "\n",
    "def extract_text_from_files(folder_path):\n",
    "    extracted_texts = {}\n",
    "\n",
    "    for root, _, files in os.walk(folder_path):\n",
    "        for file in files:\n",
    "            file_path = os.path.join(root, file)\n",
    "            file_ext = os.path.splitext(file)[-1]\n",
    "\n",
    "            if file_ext == \".md\":\n",
    "                extracted_texts[file] = extract_text_from_md(file_path)\n",
    "            elif file_ext == \".ipynb\":\n",
    "                extracted_texts[file] = extract_text_from_ipynb(file_path)\n",
    "            elif file_ext == \".py\":\n",
    "                extracted_texts[file] = extract_text_from_py(file_path)\n",
    "\n",
    "    return extracted_texts\n",
    "\n",
    "\n",
    "\n",
    "\n",
    "folder_path = \"../raw_input/gsw_mikeio\"  # Replace this with the path to your folder\n",
    "extracted_texts = extract_text_from_files(folder_path)\n",
    "\n",
    "\n",
    "\n",
    "# save extracted text to files\n",
    "def save_extracted_text_to_file(file_name, text):\n",
    "    output_file_name = os.path.splitext(file_name)[0] + \".txt\"\n",
    "    with open(output_file_name, \"w\", encoding=\"utf-8\") as f:\n",
    "        f.write(text)\n",
    "        \n",
    "for file_name, text in extracted_texts.items():\n",
    "    save_extracted_text_to_file(file_name, text)\n",
    "    "
   ]
  },
  {
   "attachments": {},
   "cell_type": "markdown",
   "metadata": {},
   "source": [
    "### Build embeddings index\n",
    "\n",
    "from files stored in subfolder /text"
   ]
  },
  {
   "attachments": {},
   "cell_type": "markdown",
   "metadata": {},
   "source": [
    "<div class=\"alert alert-block alert-info\">\n",
    "<b>Tip:</b> \"Blank empty lines can clutter the text files and make them harder to process. A simple function can remove those lines and tidy up the files.\"\n",
    "</div>"
   ]
  },
  {
   "cell_type": "code",
   "execution_count": 15,
   "metadata": {},
   "outputs": [
    {
     "name": "stderr",
     "output_type": "stream",
     "text": [
      "C:\\Users\\clcr\\AppData\\Local\\Temp\\ipykernel_30456\\1367190806.py:3: FutureWarning: The default value of regex will change from True to False in a future version.\n",
      "  serie = serie.str.replace('\\\\n', ' ')\n"
     ]
    },
    {
     "data": {
      "text/html": [
       "<div>\n",
       "<style scoped>\n",
       "    .dataframe tbody tr th:only-of-type {\n",
       "        vertical-align: middle;\n",
       "    }\n",
       "\n",
       "    .dataframe tbody tr th {\n",
       "        vertical-align: top;\n",
       "    }\n",
       "\n",
       "    .dataframe thead th {\n",
       "        text-align: right;\n",
       "    }\n",
       "</style>\n",
       "<table border=\"1\" class=\"dataframe\">\n",
       "  <thead>\n",
       "    <tr style=\"text-align: right;\">\n",
       "      <th></th>\n",
       "      <th>fname</th>\n",
       "      <th>text</th>\n",
       "    </tr>\n",
       "  </thead>\n",
       "  <tbody>\n",
       "    <tr>\n",
       "      <th>0</th>\n",
       "      <td></td>\n",
       "      <td>. # Basic Python Python is a high level genera...</td>\n",
       "    </tr>\n",
       "    <tr>\n",
       "      <th>1</th>\n",
       "      <td>res</td>\n",
       "      <td>res. # Data Structures MIKE IO has these prima...</td>\n",
       "    </tr>\n",
       "    <tr>\n",
       "      <th>2</th>\n",
       "      <td>medelta</td>\n",
       "      <td>medelta. # Datetimes and timedeltas Python has...</td>\n",
       "    </tr>\n",
       "    <tr>\n",
       "      <th>3</th>\n",
       "      <td></td>\n",
       "      <td>. # Dfs0 See [Dfs0 in MIKE IO Documentation](h...</td>\n",
       "    </tr>\n",
       "    <tr>\n",
       "      <th>4</th>\n",
       "      <td></td>\n",
       "      <td>. # Dfs1 Dfs1 has in addition to the dfs0 file...</td>\n",
       "    </tr>\n",
       "  </tbody>\n",
       "</table>\n",
       "</div>"
      ],
      "text/plain": [
       "     fname                                               text\n",
       "0           . # Basic Python Python is a high level genera...\n",
       "1      res  res. # Data Structures MIKE IO has these prima...\n",
       "2  medelta  medelta. # Datetimes and timedeltas Python has...\n",
       "3           . # Dfs0 See [Dfs0 in MIKE IO Documentation](h...\n",
       "4           . # Dfs1 Dfs1 has in addition to the dfs0 file..."
      ]
     },
     "execution_count": 15,
     "metadata": {},
     "output_type": "execute_result"
    }
   ],
   "source": [
    "def remove_newlines(serie):\n",
    "    serie = serie.str.replace('\\n', ' ')\n",
    "    serie = serie.str.replace('\\\\n', ' ')\n",
    "    serie = serie.str.replace('  ', ' ')\n",
    "    serie = serie.str.replace('  ', ' ')\n",
    "    return serie\n",
    "\n",
    "\n",
    "\n",
    "# Create a list to store the text files\n",
    "texts=[]\n",
    "\n",
    "# Get all the text files in the text directory\n",
    "for file in os.listdir(\"text/\"):\n",
    "\n",
    "    # Open the file and read the text\n",
    "    with open(\"text/\" + file, \"r\", encoding=\"UTF-8\") as f:\n",
    "        text = f.read()\n",
    "\n",
    "        # Omit the first 11 lines and the last 4 lines, then replace -, _, and #update with spaces.\n",
    "        texts.append((file[11:-4].replace('-',' ').replace('_', ' ').replace('#update',''), text))\n",
    "\n",
    "# Create a dataframe from the list of texts\n",
    "df = pd.DataFrame(texts, columns = ['fname', 'text'])\n",
    "\n",
    "# Set the text column to be the raw text with the newlines removed\n",
    "df['text'] = df.fname + \". \" + remove_newlines(df.text)\n",
    "df.to_csv('processed/scraped.csv')\n",
    "df.head()"
   ]
  },
  {
   "attachments": {},
   "cell_type": "markdown",
   "metadata": {},
   "source": [
    "### tokenize\n",
    "\n",
    "<div class=\"alert alert-block alert-info\">\n",
    "<b>Note:</b>\n",
    "The API has a limit on the maximum number of input tokens for embeddings. To stay below the limit, the text in the CSV file needs to be broken down into multiple rows. The existing length of each row will be recorded first to identify which rows need to be split.\n",
    "</div>"
   ]
  },
  {
   "cell_type": "code",
   "execution_count": null,
   "metadata": {},
   "outputs": [],
   "source": [
    "import tiktoken\n",
    "\n",
    "# Load the cl100k_base tokenizer which is designed to work with the ada-002 model\n",
    "tokenizer = tiktoken.get_encoding(\"cl100k_base\")\n",
    "\n",
    "df = pd.read_csv('processed/scraped.csv', index_col=0)\n",
    "df.columns = ['title', 'text']\n",
    "\n",
    "# Tokenize the text and save the number of tokens to a new column\n",
    "df['n_tokens'] = df.text.apply(lambda x: len(tokenizer.encode(x)))"
   ]
  },
  {
   "cell_type": "code",
   "execution_count": 39,
   "metadata": {},
   "outputs": [
    {
     "name": "stdout",
     "output_type": "stream",
     "text": [
      "total number of tokens 18267\n"
     ]
    },
    {
     "data": {
      "image/png": "[encoded data removed]",
      "text/plain": [
       "<Figure size 600x500 with 1 Axes>"
      ]
     },
     "metadata": {},
     "output_type": "display_data"
    }
   ],
   "source": [
    "import seaborn as sns\n",
    "# do histplot with seaborn (max tokens are 8191 for 2nd generation ada model, if we exceed this we would need to split)\n",
    "fig, ax = plt.subplots(figsize=(6, 5))\t\n",
    "sns.histplot(df.n_tokens, bins=10, ax=ax);\n",
    "ax.set_xlabel('Number of tokens')\n",
    "ax.set_ylabel=('Number of documents')\t\n",
    "ax.set_title('Number of tokens per document')\n",
    "\n",
    "print(f\"total number of tokens {df.n_tokens.sum()}\")"
   ]
  },
  {
   "attachments": {},
   "cell_type": "markdown",
   "metadata": {},
   "source": [
    "#### if needed: split into smaller chunks (<8191 tokens)\n",
    " "
   ]
  },
  {
   "cell_type": "code",
   "execution_count": null,
   "metadata": {},
   "outputs": [],
   "source": [
    "max_tokens = 500\n",
    "\n",
    "# Function to split the text into chunks of a maximum number of tokens\n",
    "def split_into_many(text, max_tokens = max_tokens):\n",
    "\n",
    "    # Split the text into sentences\n",
    "    sentences = text.split('. ')\n",
    "\n",
    "    # Get the number of tokens for each sentence\n",
    "    n_tokens = [len(tokenizer.encode(\" \" + sentence)) for sentence in sentences]\n",
    "    \n",
    "    chunks = []\n",
    "    tokens_so_far = 0\n",
    "    chunk = []\n",
    "\n",
    "    # Loop through the sentences and tokens joined together in a tuple\n",
    "    for sentence, token in zip(sentences, n_tokens):\n",
    "\n",
    "        # If the number of tokens so far plus the number of tokens in the current sentence is greater \n",
    "        # than the max number of tokens, then add the chunk to the list of chunks and reset\n",
    "        # the chunk and tokens so far\n",
    "        if tokens_so_far + token > max_tokens:\n",
    "            chunks.append(\". \".join(chunk) + \".\")\n",
    "            chunk = []\n",
    "            tokens_so_far = 0\n",
    "\n",
    "        # If the number of tokens in the current sentence is greater than the max number of \n",
    "        # tokens, go to the next sentence\n",
    "        if token > max_tokens:\n",
    "            continue\n",
    "\n",
    "        # Otherwise, add the sentence to the chunk and add the number of tokens to the total\n",
    "        chunk.append(sentence)\n",
    "        tokens_so_far += token + 1\n",
    "\n",
    "    return chunks\n",
    "    \n",
    "\n",
    "shortened = []\n",
    "\n",
    "# Loop through the dataframe\n",
    "for row in df.iterrows():\n",
    "\n",
    "    # If the text is None, go to the next row\n",
    "    if row[1]['text'] is None:\n",
    "        continue\n",
    "\n",
    "    # If the number of tokens is greater than the max number of tokens, split the text into chunks\n",
    "    if row[1]['n_tokens'] > max_tokens:\n",
    "        shortened += split_into_many(row[1]['text'])\n",
    "    \n",
    "    # Otherwise, add the text to the list of shortened texts\n",
    "    else:\n",
    "        shortened.append( row[1]['text'] )"
   ]
  },
  {
   "attachments": {},
   "cell_type": "markdown",
   "metadata": {},
   "source": [
    "### send preprocessed data to openAI for processing ($$$)"
   ]
  },
  {
   "cell_type": "code",
   "execution_count": 37,
   "metadata": {},
   "outputs": [
    {
     "data": {
      "text/html": [
       "<div>\n",
       "<style scoped>\n",
       "    .dataframe tbody tr th:only-of-type {\n",
       "        vertical-align: middle;\n",
       "    }\n",
       "\n",
       "    .dataframe tbody tr th {\n",
       "        vertical-align: top;\n",
       "    }\n",
       "\n",
       "    .dataframe thead th {\n",
       "        text-align: right;\n",
       "    }\n",
       "</style>\n",
       "<table border=\"1\" class=\"dataframe\">\n",
       "  <thead>\n",
       "    <tr style=\"text-align: right;\">\n",
       "      <th></th>\n",
       "      <th>title</th>\n",
       "      <th>text</th>\n",
       "      <th>n_tokens</th>\n",
       "      <th>embeddings</th>\n",
       "    </tr>\n",
       "  </thead>\n",
       "  <tbody>\n",
       "    <tr>\n",
       "      <th>0</th>\n",
       "      <td>NaN</td>\n",
       "      <td>. # Basic Python Python is a high level genera...</td>\n",
       "      <td>1122</td>\n",
       "      <td>[-0.00912307295948267, 0.014363128691911697, 0...</td>\n",
       "    </tr>\n",
       "    <tr>\n",
       "      <th>1</th>\n",
       "      <td>res</td>\n",
       "      <td>res. # Data Structures MIKE IO has these prima...</td>\n",
       "      <td>245</td>\n",
       "      <td>[-0.0007991945021785796, 0.0036900753621011972...</td>\n",
       "    </tr>\n",
       "    <tr>\n",
       "      <th>2</th>\n",
       "      <td>medelta</td>\n",
       "      <td>medelta. # Datetimes and timedeltas Python has...</td>\n",
       "      <td>1052</td>\n",
       "      <td>[0.0020638047717511654, -0.006340141873806715,...</td>\n",
       "    </tr>\n",
       "    <tr>\n",
       "      <th>3</th>\n",
       "      <td>NaN</td>\n",
       "      <td>. # Dfs0 See [Dfs0 in MIKE IO Documentation](h...</td>\n",
       "      <td>1065</td>\n",
       "      <td>[-0.004047850612550974, 0.004773047287017107, ...</td>\n",
       "    </tr>\n",
       "    <tr>\n",
       "      <th>4</th>\n",
       "      <td>NaN</td>\n",
       "      <td>. # Dfs1 Dfs1 has in addition to the dfs0 file...</td>\n",
       "      <td>593</td>\n",
       "      <td>[0.001346861943602562, 0.026005946099758148, -...</td>\n",
       "    </tr>\n",
       "  </tbody>\n",
       "</table>\n",
       "</div>"
      ],
      "text/plain": [
       "     title                                               text  n_tokens  \\\n",
       "0      NaN  . # Basic Python Python is a high level genera...      1122   \n",
       "1      res  res. # Data Structures MIKE IO has these prima...       245   \n",
       "2  medelta  medelta. # Datetimes and timedeltas Python has...      1052   \n",
       "3      NaN  . # Dfs0 See [Dfs0 in MIKE IO Documentation](h...      1065   \n",
       "4      NaN  . # Dfs1 Dfs1 has in addition to the dfs0 file...       593   \n",
       "\n",
       "                                          embeddings  \n",
       "0  [-0.00912307295948267, 0.014363128691911697, 0...  \n",
       "1  [-0.0007991945021785796, 0.0036900753621011972...  \n",
       "2  [0.0020638047717511654, -0.006340141873806715,...  \n",
       "3  [-0.004047850612550974, 0.004773047287017107, ...  \n",
       "4  [0.001346861943602562, 0.026005946099758148, -...  "
      ]
     },
     "execution_count": 37,
     "metadata": {},
     "output_type": "execute_result"
    }
   ],
   "source": [
    "import openai\n",
    "engine = 'text-embedding-ada-002'\n",
    "df['embeddings'] = df.text.apply(lambda x: openai.Embedding.create(input=x, \n",
    "                                                                   engine=engine)['data'][0]['embedding'])\n",
    "\n",
    "df.to_csv('processed/embeddings.csv')\n",
    "df.head()"
   ]
  },
  {
   "attachments": {},
   "cell_type": "markdown",
   "metadata": {},
   "source": [
    "### Visualize embeddings\n",
    "\n",
    "higher dimensional visualization with t-SNE explored here: https://platform.openai.com/docs/guides/embeddings/use-cases"
   ]
  },
  {
   "attachments": {},
   "cell_type": "markdown",
   "metadata": {},
   "source": [
    "### > Ask questions based on the embedded data\n",
    "\n",
    "\n",
    "#### further processing of embeddings data"
   ]
  },
  {
   "cell_type": "code",
   "execution_count": 2,
   "metadata": {},
   "outputs": [
    {
     "data": {
      "text/html": [
       "<div>\n",
       "<style scoped>\n",
       "    .dataframe tbody tr th:only-of-type {\n",
       "        vertical-align: middle;\n",
       "    }\n",
       "\n",
       "    .dataframe tbody tr th {\n",
       "        vertical-align: top;\n",
       "    }\n",
       "\n",
       "    .dataframe thead th {\n",
       "        text-align: right;\n",
       "    }\n",
       "</style>\n",
       "<table border=\"1\" class=\"dataframe\">\n",
       "  <thead>\n",
       "    <tr style=\"text-align: right;\">\n",
       "      <th></th>\n",
       "      <th>title</th>\n",
       "      <th>text</th>\n",
       "      <th>n_tokens</th>\n",
       "      <th>embeddings</th>\n",
       "    </tr>\n",
       "  </thead>\n",
       "  <tbody>\n",
       "    <tr>\n",
       "      <th>0</th>\n",
       "      <td>NaN</td>\n",
       "      <td>. # Basic Python Python is a high level genera...</td>\n",
       "      <td>1122</td>\n",
       "      <td>[-0.00912307295948267, 0.014363128691911697, 0...</td>\n",
       "    </tr>\n",
       "    <tr>\n",
       "      <th>1</th>\n",
       "      <td>res</td>\n",
       "      <td>res. # Data Structures MIKE IO has these prima...</td>\n",
       "      <td>245</td>\n",
       "      <td>[-0.0007991945021785796, 0.0036900753621011972...</td>\n",
       "    </tr>\n",
       "    <tr>\n",
       "      <th>2</th>\n",
       "      <td>medelta</td>\n",
       "      <td>medelta. # Datetimes and timedeltas Python has...</td>\n",
       "      <td>1052</td>\n",
       "      <td>[0.0020638047717511654, -0.006340141873806715,...</td>\n",
       "    </tr>\n",
       "    <tr>\n",
       "      <th>3</th>\n",
       "      <td>NaN</td>\n",
       "      <td>. # Dfs0 See [Dfs0 in MIKE IO Documentation](h...</td>\n",
       "      <td>1065</td>\n",
       "      <td>[-0.004047850612550974, 0.004773047287017107, ...</td>\n",
       "    </tr>\n",
       "    <tr>\n",
       "      <th>4</th>\n",
       "      <td>NaN</td>\n",
       "      <td>. # Dfs1 Dfs1 has in addition to the dfs0 file...</td>\n",
       "      <td>593</td>\n",
       "      <td>[0.001346861943602562, 0.026005946099758148, -...</td>\n",
       "    </tr>\n",
       "  </tbody>\n",
       "</table>\n",
       "</div>"
      ],
      "text/plain": [
       "     title                                               text  n_tokens  \\\n",
       "0      NaN  . # Basic Python Python is a high level genera...      1122   \n",
       "1      res  res. # Data Structures MIKE IO has these prima...       245   \n",
       "2  medelta  medelta. # Datetimes and timedeltas Python has...      1052   \n",
       "3      NaN  . # Dfs0 See [Dfs0 in MIKE IO Documentation](h...      1065   \n",
       "4      NaN  . # Dfs1 Dfs1 has in addition to the dfs0 file...       593   \n",
       "\n",
       "                                          embeddings  \n",
       "0  [-0.00912307295948267, 0.014363128691911697, 0...  \n",
       "1  [-0.0007991945021785796, 0.0036900753621011972...  \n",
       "2  [0.0020638047717511654, -0.006340141873806715,...  \n",
       "3  [-0.004047850612550974, 0.004773047287017107, ...  \n",
       "4  [0.001346861943602562, 0.026005946099758148, -...  "
      ]
     },
     "execution_count": 2,
     "metadata": {},
     "output_type": "execute_result"
    }
   ],
   "source": [
    "import pandas as pd\n",
    "import numpy as np\n",
    "from openai.embeddings_utils import distances_from_embeddings\n",
    "\n",
    "df=pd.read_csv('processed/embeddings.csv', index_col=0)\n",
    "# convert embeddings to 1D numpy array makes it easier to work with later\n",
    "df['embeddings'] = df['embeddings'].apply(eval).apply(np.array)\n",
    "\n",
    "df.head()"
   ]
  },
  {
   "attachments": {},
   "cell_type": "markdown",
   "metadata": {},
   "source": [
    "#### Translate NL question to embedding and compute distance between embeddings of question and content"
   ]
  },
  {
   "attachments": {},
   "cell_type": "markdown",
   "metadata": {},
   "source": [
    "- The question needs to be converted to an embedding. \n",
    "- The search with embeddings compares the vector of numbers (which was the conversion of the raw text) using cosine distance. \n",
    "- The vectors are likely related and might be the answer to the question if they are close in cosine distance.\n",
    "- The **result is solely semantically related/close to the question**. But there is no guarantee that this proximity is actually the answer to the question."
   ]
  },
  {
   "cell_type": "code",
   "execution_count": 67,
   "metadata": {},
   "outputs": [],
   "source": [
    "def create_context(\n",
    "    question, df, max_len=1800, size=\"ada\"\n",
    "):\n",
    "    \"\"\"\n",
    "    Create a context for a question by finding the most similar context from the dataframe\n",
    "    \"\"\"\n",
    "\n",
    "    # Get the embeddings for the question\n",
    "    q_embeddings = openai.Embedding.create(input=question, engine=engine)['data'][0]['embedding']\n",
    "\n",
    "    # Get the distances from the embeddings\n",
    "    df['distances'] = distances_from_embeddings(q_embeddings, df['embeddings'].values, distance_metric='cosine')\n",
    "\n",
    "\n",
    "    returns = []\n",
    "    cur_len = 0\n",
    "\n",
    "    # Sort by distance and add the text to the context until the context is too long\n",
    "    for i, row in df.sort_values('distances', ascending=True).iterrows():\n",
    "        \n",
    "        # Add the length of the text to the current length\n",
    "        cur_len += row['n_tokens'] + 4\n",
    "        \n",
    "        # If the context is too long, break\n",
    "        if cur_len > max_len:\n",
    "            break\n",
    "        \n",
    "        # Else add it to the text that is being returned\n",
    "        returns.append(row[\"text\"])\n",
    "\n",
    "    # Return the context\n",
    "    return \"\\n\\n###\\n\\n\".join(returns)"
   ]
  },
  {
   "attachments": {},
   "cell_type": "markdown",
   "metadata": {},
   "source": [
    "#### Answer question\n",
    "\n",
    "here we can use other models than for embeddings (e.g. text-davinci-003)"
   ]
  },
  {
   "cell_type": "code",
   "execution_count": 79,
   "metadata": {},
   "outputs": [],
   "source": [
    "completion_model = \"text-davinci-003\" # needs to be completion (single-turn) model (ada, babbage, curie or davinci) and not chat model \n",
    "\n",
    "def answer_question(\n",
    "    df,\n",
    "    model=completion_model,\n",
    "    question=\"Am I allowed to publish model outputs to Twitter, without a human review?\",\n",
    "    max_len=1800,\n",
    "    size=\"ada\",\n",
    "    debug=False,\n",
    "    max_tokens=150,\n",
    "    stop_sequence=None\n",
    "):\n",
    "    \"\"\"\n",
    "    Answer a question based on the most similar context from the dataframe texts\n",
    "    \"\"\"\n",
    "    context = create_context(\n",
    "        question,\n",
    "        df,\n",
    "        max_len=max_len,\n",
    "        size=size,\n",
    "    )\n",
    "    # If debug, print the raw model response\n",
    "    if debug:\n",
    "        print(\"Context:\\n\" + context)\n",
    "        print(\"\\n\\n\")\n",
    "\n",
    "    try:\n",
    "        # Create a completions using the question and context\n",
    "        response = openai.Completion.create(\n",
    "            prompt=f\"Answer the question based on the context below, and if the question can't be answered based on the context, say \\\"I don't know\\\"\\n\\nContext: {context}\\n\\n---\\n\\nQuestion: {question}\\nAnswer:\",\n",
    "            temperature=0,\n",
    "            max_tokens=max_tokens,\n",
    "            top_p=1,\n",
    "            frequency_penalty=0,\n",
    "            presence_penalty=0,\n",
    "            stop=stop_sequence,\n",
    "            model=model,\n",
    "        )\n",
    "        return response[\"choices\"][0][\"text\"].strip()\n",
    "    except Exception as e:\n",
    "        print(e)\n",
    "        return \"\""
   ]
  },
  {
   "cell_type": "code",
   "execution_count": 69,
   "metadata": {},
   "outputs": [
    {
     "data": {
      "text/plain": [
       "'You should use MIKE IO if you use Python for programming or data analysis and you are a MIKE modeler with knowledge of the Python libraries NumPy and Pandas.'"
      ]
     },
     "execution_count": 69,
     "metadata": {},
     "output_type": "execute_result"
    }
   ],
   "source": [
    "answer_question(df, question=\"Why should you use MIKE IO\")#, debug=True)"
   ]
  },
  {
   "cell_type": "code",
   "execution_count": 70,
   "metadata": {},
   "outputs": [
    {
     "data": {
      "text/plain": [
       "\"I don't know.\""
      ]
     },
     "execution_count": 70,
     "metadata": {},
     "output_type": "execute_result"
    }
   ],
   "source": [
    "answer_question(df, question=\"Can you create animations with MIKE IO?\")#, debug=True)"
   ]
  },
  {
   "cell_type": "code",
   "execution_count": 72,
   "metadata": {},
   "outputs": [
    {
     "data": {
      "text/plain": [
       "'Run the following lines of code: ```python import mikeio print(\"MIKE IO: \" + mikeio.__version__) ```'"
      ]
     },
     "execution_count": 72,
     "metadata": {},
     "output_type": "execute_result"
    }
   ],
   "source": [
    "answer_question(df, question=\"How do i test if i properly installed MIKE IO?\")#, debug=True)"
   ]
  },
  {
   "cell_type": "code",
   "execution_count": 74,
   "metadata": {},
   "outputs": [
    {
     "data": {
      "text/plain": [
       "'Yes, you can interpolate 2D dfsu data to a raster. To do this, you can use the interp() method on the DataArray object. For example, you can use the following code to interpolate the elevation data to a specific location: da_stn = elevation.interp(x=stn[0], y=stn[1])'"
      ]
     },
     "execution_count": 74,
     "metadata": {},
     "output_type": "execute_result"
    }
   ],
   "source": [
    "answer_question(df, question=\"Can i interpolate 2D dfsu data to a raster? If so, how?\")#, debug=True)"
   ]
  },
  {
   "attachments": {},
   "cell_type": "markdown",
   "metadata": {},
   "source": [
    "# Findings\n",
    "\n",
    "\n",
    "- embeddings [computerphile](https://www.youtube.com/watch?v=gQddtTdmG_8), [Udacity cats and kittys](https://www.youtube.com/watch?v=186HUTBQnpY), [Udacity cats and encoding](https://www.youtube.com/watch?v=BD8wPsr_DAI), [Sung version incl. sequence prediction](https://www.youtube.com/watch?v=viZrOnJclY0): \n",
    "    - instead of words (or part of it) represented by a number, a whole sentence or document is represented by a vector of numbers (embedding)\n",
    "    - NNs don't work well with words, but with numbers\n",
    "    - capacity of auto(regressive) approaches is limeted, so this representation is saving memory for the neural net (maybe too simply: one number instead of a whole word).\n",
    "        - instead of the neural net having to learn which characters compose valid words, the vector representation of the word is learned instead\n",
    "    - text to float vector \n",
    "    - float vector has 1536 dimensions (currently for openai models)\n",
    "    - can to some extent be imagined and translated to 2d or 3d space (e.g. t-SNE) \"How are tokens related to each other in the embedding space?\" \n",
    "    - steps:\n",
    "        - generate embedding for **query** (question)\n",
    "        - perform **similarity search between query and embeddings** (database) of content (e.g. euclidean distance cosine, dot product)\n",
    "        - note: openai embeddings are normalized (hence cosine similarity and dot product are equivalent)\n",
    "        - **hand context to model to answer question**\n",
    "        - note: **context** is the part of the embeddings that is relevant (acc. to similarity search) for the question\n",
    "    - in summary, **embeddings** rely on a database that **can be easily updated** (as opposed to model fine-tuning or retraining) \n",
    "    \n",
    "- retraining:\n",
    "    - new numbers are assigned to each word and distances between all are newly determined\n",
    "------\n",
    "- learnings\n",
    "\n",
    "    - great to build a personal assistant instead of a wiki\n",
    "    - splitting in smaller chucnks could also reduce context needed to be handed over for each query (better focus on relevant part of text)\n",
    "    - queries show high token number (~4k for simple question). This is most likely due to the fact that context (part of embeddings dataframe) needs to be handed over to the model as well.\n",
    "    - <mark> Currently, the dataframe is being passed in each time to answer a question. For more production workflows, a vector database solution should be used instead of storing the embeddings in a CSV file, but the current approach is a great option for prototyping.\n",
    "    - A longer but more precise prompt seems to drive the number of tokens handed to openai down, probably by preconditioning the search space (context gets narrower and df doesn't have to be handed over entirely).\n",
    "    - Microsoft seems to provide a vector database solution \"The alternative is to keep all the data in an external knowledge base that can **retrieve pieces quickly and with good relevance**, exactly what Cognitive Search was designed for.\"[MS blog](https://techcommunity.microsoft.com/t5/ai-applied-ai-blog/revolutionize-your-enterprise-data-with-chatgpt-next-gen-apps-w/ba-p/3762087)\n",
    "    - https://github.com/openai/openai-cookbook/tree/main/examples/vector_databases\n",
    "\n",
    "    ## Potential vector database solutions\n",
    "    - Pinecone, a fully managed vector database\n",
    "    - Weaviate, an open-source vector search engine\n",
    "    - Redis as a vector database\n",
    "    - Qdrant, a vector search engine\n",
    "    - Milvus, a vector database built for scalable similarity search\n",
    "    - Chroma, an open-source embeddings store"
   ]
  }
 ],
 "metadata": {
  "kernelspec": {
   "display_name": "base",
   "language": "python",
   "name": "python3"
  },
  "language_info": {
   "codemirror_mode": {
    "name": "ipython",
    "version": 3
   },
   "file_extension": ".py",
   "mimetype": "text/x-python",
   "name": "python",
   "nbconvert_exporter": "python",
   "pygments_lexer": "ipython3",
   "version": "3.10.9"
  },
  "orig_nbformat": 4
 },
 "nbformat": 4,
 "nbformat_minor": 2
}
