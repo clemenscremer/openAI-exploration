{
 "cells": [
  {
   "attachments": {},
   "cell_type": "markdown",
   "metadata": {},
   "source": [
    "# Check GPT capability to downscale and reason about physical properties\n",
    "\n",
    "\n",
    "## 2D Data\n",
    "\n",
    "Prompt:\n",
    "You are a hydrodynamics and numerical modelling expert. Areal, depth averaged outputs in 60 sec intervals from a \n",
    "DHI MIKE21 FM simulation with the specifications below will be handed to you in raster format where each \n",
    "raster corresponds to surface elevation data from a single timestep.\n",
    "Areal, depth averaged outputs in 60 sec intervals from a MIKE21 FM simulation.\n",
    "\n",
    "- Basis: MIKE21 FM Simulation\n",
    "\n",
    "- Domain Dimensions: 1500 x 1500 m\n",
    "- Raster resolution: 100 m in x and y direction\n",
    "- Bathymetry: constant -2 m (Base case)\n",
    "- Time step: 60 seconds\n",
    "- Total time: 360 seconds\n",
    "\n",
    "- Initial conditions: 0 m surface elevation, 0 m/s velocity in u and v direction\n",
    "- Boundary conditions:\n",
    "    - Downstream: Specified water level of 0 m\n",
    "    - Upstream: Specified water level of 0.05 m with a sine variation soft start over 900 seconds\n",
    "\n",
    "\n"
   ]
  },
  {
   "cell_type": "code",
   "execution_count": 3,
   "metadata": {},
   "outputs": [
    {
     "data": {
      "text/plain": [
       "<mikeio.Dataset>\n",
       "dims: (time:7, element:778)\n",
       "time: 2014-01-01 00:00:00 - 2014-01-01 06:00:00 (7 records)\n",
       "geometry: Dfsu2D (778 elements, 443 nodes)\n",
       "items:\n",
       "  0:  Surface elevation <Surface Elevation> (meter)\n",
       "  1:  Total water depth <Water Depth> (meter)\n",
       "  2:  U velocity <u velocity component> (meter per sec)\n",
       "  3:  V velocity <v velocity component> (meter per sec)\n",
       "  4:  Current speed <Current Speed> (meter per sec)\n",
       "  5:  Drag coefficient <Undefined> (undefined)"
      ]
     },
     "execution_count": 3,
     "metadata": {},
     "output_type": "execute_result"
    }
   ],
   "source": [
    "import mikeio\n",
    "\n",
    "fn = \"C:\\Source\\openAI-exploration\\MIKE\\BedResistance\\SimA.m21fm - Result Files\\SimA_HD.dfsu\"\n",
    "ds = mikeio.read(fn)\n",
    "ds"
   ]
  },
  {
   "cell_type": "code",
   "execution_count": 8,
   "metadata": {},
   "outputs": [
    {
     "data": {
      "text/plain": [
       "<mikeio.DataArray>\n",
       "name: Surface elevation\n",
       "dims: (time:7, element:778)\n",
       "time: 2014-01-01 00:00:00 - 2014-01-01 06:00:00 (7 records)\n",
       "geometry: Dfsu2D (778 elements, 443 nodes)"
      ]
     },
     "execution_count": 8,
     "metadata": {},
     "output_type": "execute_result"
    }
   ],
   "source": [
    "ds_item = 'Surface elevation' # item to select\n",
    "\n",
    "da = ds[ds_item]\n",
    "da"
   ]
  },
  {
   "cell_type": "code",
   "execution_count": 29,
   "metadata": {},
   "outputs": [
    {
     "data": {
      "text/plain": [
       "<mikeio.Grid2D>\n",
       "x: [50, 150, ..., 1450] (nx=15, dx=100)\n",
       "y: [50, 150, ..., 1450] (ny=15, dy=100)\n",
       "projection: PROJCS[\"UTM-32\",GEOGCS[\"Unused\",DATUM[\"UTM Projections\",SPHEROID[\"WGS 1984\",6378137,298.257223563]],PRIMEM[\"Greenwich\",0],UNIT[\"Degree\",0.0174532925199433]],PROJECTION[\"Transverse_Mercator\"],PARAMETER[\"False_Easting\",500000],PARAMETER[\"False_Northing\",0],PARAMETER[\"Central_Meridian\",9],PARAMETER[\"Scale_Factor\",0.9996],PARAMETER[\"Latitude_Of_Origin\",0],UNIT[\"Meter\",1]]"
      ]
     },
     "execution_count": 29,
     "metadata": {},
     "output_type": "execute_result"
    }
   ],
   "source": [
    "# create overset grid with 10x10m resolution\n",
    "g = da.geometry.get_overset_grid(dx=100)\n",
    "g"
   ]
  },
  {
   "cell_type": "code",
   "execution_count": 30,
   "metadata": {},
   "outputs": [
    {
     "data": {
      "text/plain": [
       "<mikeio.DataArray>\n",
       "name: Surface elevation\n",
       "dims: (time:7, y:15, x:15)\n",
       "time: 2014-01-01 00:00:00 - 2014-01-01 06:00:00 (7 records)\n",
       "geometry: Grid2D (ny=15, nx=15)"
      ]
     },
     "execution_count": 30,
     "metadata": {},
     "output_type": "execute_result"
    }
   ],
   "source": [
    "# interpolate to overset grid\n",
    "da_raster = da.interp_like(g)\n",
    "da_raster"
   ]
  },
  {
   "cell_type": "code",
   "execution_count": 31,
   "metadata": {},
   "outputs": [
    {
     "data": {
      "text/plain": [
       "<Axes: xlabel='Easting [m]', ylabel='Northing [m]'>"
      ]
     },
     "execution_count": 31,
     "metadata": {},
     "output_type": "execute_result"
    },
    {
     "data": {
      "image/png": "[encoded data removed]",
      "text/plain": [
       "<Figure size 640x480 with 2 Axes>"
      ]
     },
     "metadata": {},
     "output_type": "display_data"
    }
   ],
   "source": [
    "da_raster.sel(time=3).plot()"
   ]
  },
  {
   "cell_type": "code",
   "execution_count": 32,
   "metadata": {},
   "outputs": [],
   "source": [
    "from numpy import savetxt\n",
    "for i, time in enumerate(ds.time):\n",
    "    np_raster = da_raster.sel(time=time).to_numpy()\n",
    "    savetxt(f'{ds_item}_t{i}.csv', np_raster, delimiter=',')"
   ]
  },
  {
   "attachments": {},
   "cell_type": "markdown",
   "metadata": {},
   "source": [
    "- physical understanding: current speeds from dynamic surface elevation\n",
    "- Inference: Are you able to infer the constant bed resistance as manning number? "
   ]
  },
  {
   "attachments": {},
   "cell_type": "markdown",
   "metadata": {},
   "source": [
    "## Timeseries\n",
    "\n",
    "You are a hydrodynamics and numerical modelling expert. If you do not have an answer, reply with \"i don't know\".\n",
    "\n",
    "In the following I'll provide you with observed (measured) timeseries from the german Elbe river. \n",
    "1. water levels from Stadersand, \n",
    "2. Discharge measurements from Neu Darchau and \n",
    "3. water level measurements from St. Pauli. \n",
    "\n",
    "Based on this, can you find an analytical solution for the water level at St. Pauli given the other two measurements are known?"
   ]
  }
 ],
 "metadata": {
  "kernelspec": {
   "display_name": "base",
   "language": "python",
   "name": "python3"
  },
  "language_info": {
   "codemirror_mode": {
    "name": "ipython",
    "version": 3
   },
   "file_extension": ".py",
   "mimetype": "text/x-python",
   "name": "python",
   "nbconvert_exporter": "python",
   "pygments_lexer": "ipython3",
   "version": "3.10.9"
  },
  "orig_nbformat": 4
 },
 "nbformat": 4,
 "nbformat_minor": 2
}
