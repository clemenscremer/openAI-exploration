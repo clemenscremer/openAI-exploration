{
 "cells": [
  {
   "attachments": {},
   "cell_type": "markdown",
   "metadata": {},
   "source": [
    "leveraging\n",
    "\n",
    "- langchain (as adapter to llms)\n",
    "- openai (as designated model here)\n",
    "- faiss-cpu (for similarity search)"
   ]
  },
  {
   "cell_type": "code",
   "execution_count": 2,
   "metadata": {},
   "outputs": [],
   "source": [
    "import os\n",
    "import pandas as pd\n",
    "import openai\n",
    "import faiss # needed?"
   ]
  },
  {
   "attachments": {},
   "cell_type": "markdown",
   "metadata": {},
   "source": [
    "**provide API key**"
   ]
  },
  {
   "cell_type": "code",
   "execution_count": 3,
   "metadata": {},
   "outputs": [],
   "source": [
    "#from getpass import getpass\n",
    "#os.environ[\"OPENAI_API_KEY\"] = getpass(\"Paste your OpenAI API key here and hit enter:\")\n",
    "\n",
    "openai.api_key = os.environ[\"OPENAI_API_KEY\"]"
   ]
  },
  {
   "attachments": {},
   "cell_type": "markdown",
   "metadata": {},
   "source": [
    "## Option 1: Based on local folder"
   ]
  },
  {
   "cell_type": "code",
   "execution_count": 33,
   "metadata": {},
   "outputs": [],
   "source": [
    "import pathlib\n",
    "\n",
    "# settings\n",
    "INPUT_FOLDER = \"langchain_docs/getting-started-with-mikeio/mini_book\" # Local folder to crawl\n"
   ]
  },
  {
   "cell_type": "code",
   "execution_count": 46,
   "metadata": {},
   "outputs": [
    {
     "name": "stdout",
     "output_type": "stream",
     "text": [
      "langchain_docs\\getting-started-with-mikeio\\mini_book\\basic.ipynb\n",
      "langchain_docs\\getting-started-with-mikeio\\mini_book\\dfs0.ipynb\n",
      "langchain_docs\\getting-started-with-mikeio\\mini_book\\dfs1.ipynb\n",
      "langchain_docs\\getting-started-with-mikeio\\mini_book\\dfs2.ipynb\n",
      "langchain_docs\\getting-started-with-mikeio\\mini_book\\dfsu2d.ipynb\n",
      "langchain_docs\\getting-started-with-mikeio\\mini_book\\generic.ipynb\n",
      "langchain_docs\\getting-started-with-mikeio\\mini_book\\matplotlib.ipynb\n",
      "langchain_docs\\getting-started-with-mikeio\\mini_book\\mesh.ipynb\n",
      "langchain_docs\\getting-started-with-mikeio\\mini_book\\netcdf.ipynb\n",
      "langchain_docs\\getting-started-with-mikeio\\mini_book\\numpy.ipynb\n",
      "langchain_docs\\getting-started-with-mikeio\\mini_book\\pandas.ipynb\n",
      "langchain_docs\\getting-started-with-mikeio\\mini_book\\statistics.ipynb\n",
      "langchain_docs\\getting-started-with-mikeio\\mini_book\\appendix\\datetime_timedelta.ipynb\n",
      "langchain_docs\\getting-started-with-mikeio\\mini_book\\exercises\\exercise_A_basic_python.ipynb\n",
      "langchain_docs\\getting-started-with-mikeio\\mini_book\\exercises\\exercise_B_NumPy.ipynb\n",
      "langchain_docs\\getting-started-with-mikeio\\mini_book\\exercises\\exercise_C_matplotlib.ipynb\n",
      "langchain_docs\\getting-started-with-mikeio\\mini_book\\exercises\\exercise_dfsu.ipynb\n",
      "langchain_docs\\getting-started-with-mikeio\\mini_book\\exercises\\exercise_D_pandas_basics.ipynb\n",
      "langchain_docs\\getting-started-with-mikeio\\mini_book\\exercises\\exercise_E_pandas_timeseries.ipynb\n",
      "langchain_docs\\getting-started-with-mikeio\\mini_book\\exercises\\exercise_F_Dfs0.ipynb\n",
      "langchain_docs\\getting-started-with-mikeio\\mini_book\\exercises\\exercise_H_generic_dfs.ipynb\n",
      "langchain_docs\\getting-started-with-mikeio\\mini_book\\exercises\\exercise_mesh.ipynb\n",
      "langchain_docs\\getting-started-with-mikeio\\mini_book\\exercises\\exercise_xarray.ipynb\n",
      "langchain_docs\\getting-started-with-mikeio\\mini_book\\exercises\\final_assignment.ipynb\n"
     ]
    }
   ],
   "source": [
    "import pathlib\n",
    "import re\n",
    "\n",
    "from langchain.docstore.document import Document\n",
    "from langchain.document_loaders import TextLoader\n",
    "\n",
    "from langchain.text_splitter import CharacterTextSplitter\n",
    "from langchain.embeddings.openai import OpenAIEmbeddings\n",
    "from langchain.vectorstores import FAISS\n",
    "\n",
    "name_filter = \"**/*.ipynb\"\n",
    "separator = \"\\n### \"  # This separator assumes Markdown docs from the repo uses ### as logical main header most of the time\n",
    "chunk_size_limit = 1000\n",
    "max_chunk_overlap = 20\n",
    "\n",
    "repo_path = pathlib.Path(os.path.join(INPUT_FOLDER)\n",
    "document_files = list(repo_path.glob(name_filter))\n",
    "\n",
    "def convert_path_to_doc_url(doc_path):\n",
    "    print(re.sub(f\"{INPUT_FOLDER}/(.*)\\.[\\w\\d]+\", \n",
    "                f\"{DOCUMENT_BASE_URL}/\\\\1\", str(doc_path)))\n",
    "    # Convert from relative path to actual document url\n",
    "    return re.sub(f\"{DOCS_FOLDER}/{REPO_DOCUMENTS_PATH}/(.*)\\.[\\w\\d]+\", \n",
    "                f\"{DOCUMENT_BASE_URL}/\\\\1\", str(doc_path))\n",
    "\n",
    "documents = [\n",
    "    Document(\n",
    "        page_content=open(file, \"r\").read(),\n",
    "        metadata={\"source\": convert_path_to_doc_url(file)}\n",
    "    )\n",
    "    for file in document_files\n",
    "]"
   ]
  },
  {
   "cell_type": "code",
   "execution_count": 47,
   "metadata": {},
   "outputs": [
    {
     "data": {
      "text/plain": [
       "{'source': 'langchain_docs\\\\getting-started-with-mikeio\\\\mini_book\\\\basic.ipynb'}"
      ]
     },
     "execution_count": 47,
     "metadata": {},
     "output_type": "execute_result"
    }
   ],
   "source": [
    "documents[0].metadata # contains infos such as source url"
   ]
  },
  {
   "cell_type": "code",
   "execution_count": 48,
   "metadata": {},
   "outputs": [
    {
     "data": {
      "text/plain": [
       "'{\\n \"cells\": [\\n  {\\n   \"cell_type\": \"markdown\",\\n   \"metadata\": {},\\n   \"source\": [\\n    \"# Basic Python\\\\n\",\\n    \"\\\\n\",\\n    \"Python is a high level general purpose programming language. Python is easy to read, understand and learn. \\\\n\",\\n    \"\\\\n\",\\n    \"You can run python code in different ways:\\\\n\",\\n    \"\\\\n\",\\n    \"* Python interpreter: line-by-line in a shell (like an advanced calculator)\\\\n\",\\n    \"* IPython intepreter: **I**nteractive Python shell (with syntax highlighting etc)\\\\n\",\\n    \"* Script: run all your code in a txt-file \\\\n\",\\n    \"* Jupyter notebook: interactive web-based environment for combining text, code and plots\\\\n\",\\n    \"\\\\n\",\\n    \"We will use Jupyter notebooks in this course.\"\\n   ]\\n  },\\n  {\\n   \"cell_type\": \"markdown\",\\n   \"metadata\": {},\\n   \"source\": [\\n    \"## Jupyter\\\\n\",\\n    \"\\\\n\",\\n    \"A cell in jupyter is either \\\\\"code\\\\\" or \\\\\"markdown\\\\\". See [markdown cheat sheet](https://www.markdownguide.org/cheat-sheet/) for help on writing markdown text. \\\\n\",\\n    \"\\\\n\",\\n    \"You will be navigating Jupyter cells alot so it\\'s important to learn a few [keyboard shortcuts](https://www.dataday.life/notes/jupyter-notebooks/cheat-sheet-jupyter-notebook-keyboard-shortcuts/): \\\\n\",\\n    \"\\\\n\",\\n    \"* \\'Ctrl\\'+\\'Enter\\': run cell\\\\n\",\\n    \"* \\'Shift\\'+\\'Enter\\': run cell and jump to next\\\\n\",\\n    \"\\\\n\",\\n    \"You can exit \\\\\"edit mode\\\\\" (and enter \\\\\"command mode\\\\\") by pressing \\'Esc\\', you can now press:\\\\n\",\\n    \"\\\\n\",\\n    \"* \\'a\\': insert cell above\\\\n\",\\n    \"* \\'b\\': insert cell below\\\\n\",\\n    \"* \\'m\\': change cell to markdown\\\\n\",\\n    \"* \\'y\\': change cell to code\\\\n\",\\n    \"* \\'d\\'+\\'d\\': delete cell\"\\n   ]\\n  },\\n  {\\n   \"cell_type\": \"markdown\",\\n   \"metadata\": {},\\n   \"source\": [\\n    \"### Code completion and help\\\\n\",\\n    \"\\\\n\",\\n    \"Jupyter lab can help you complete Python code, if you press \\\\\"tab\\\\\". If you have your cursor on a function, you can get the function signature by pressing \\\\\"shift\\\\\"+\\\\\"tab\\\\\".\"\\n   ]\\n  },\\n  {\\n   \"cell_type\": \"code\",\\n   \"execution_count\": null,\\n   \"metadata\": {},\\n   \"outputs\": [],\\n   \"source\": [\\n    \"# You can get help by writting ? before or after a function/variable\\\\n\",\\n    \"pwd?\"\\n   ]\\n  },\\n  {\\n   \"cell_type\": \"markdown\",\\n   \"metadata\": {},\\n   \"source\": [\\n    \"### Current working directory\\\\n\",\\n    \"\\\\n\",\\n    \"When reading (or writing) files from the local file system, it is important to know your current path. You you print the current path by the command pwd:\"\\n   ]\\n  },\\n  {\\n   \"cell_type\": \"code\",\\n   \"execution_count\": null,\\n   \"metadata\": {},\\n   \"outputs\": [],\\n   \"source\": [\\n    \"pwd\"\\n   ]\\n  },\\n  {\\n   \"cell_type\": \"markdown\",\\n   \"metadata\": {},\\n   \"source\": [\\n    \"We recommend that you start jupyter from the \\\\\"mini_book\\\\\" folder in this course as it will make the relative paths to the data files work. \"\\n   ]\\n  },\\n  {\\n   \"cell_type\": \"markdown\",\\n   \"metadata\": {},\\n   \"source\": [\\n    \"### Windows paths\\\\n\",\\n    \"\\\\n\",\\n    \"Backslash \\\\\\\\\\\\\\\\ is used to separate folders in Windows. In Python strings, backslash \\\\\\\\\\\\\\\\ is an escape character. You can write windows paths in Python the following ways:\\\\n\",\\n    \"\\\\n\",\\n    \"* use \\\\\"raw-string\\\\\" representation by pre-fixing the string with r, like this: r\\\\\"folder\\\\\\\\file.ext\\\\\"\\\\n\",\\n    \"* use slash \\\\\"/\\\\\" (as on linux and http), like this: \\\\\"folder/file.ext\\\\\"\\\\n\",\\n    \"* use double backslash, like this: \\\\\"folder\\\\\\\\\\\\\\\\\\\\\\\\\\\\\\\\\\\\\\\\file.ext\\\\\"\\\\n\",\\n    \"\\\\n\",\\n    \"We recommend using slash \\\\\"/\\\\\" where possible as it also works on linux.\"\\n   ]\\n  },\\n  {\\n   \"cell_type\": \"markdown\",\\n   \"metadata\": {},\\n   \"source\": [\\n    \"## Variables\"\\n   ]\\n  },\\n  {\\n   \"cell_type\": \"code\",\\n   \"execution_count\": null,\\n   \"metadata\": {},\\n   \"outputs\": [],\\n   \"source\": [\\n    \"var1 = 2.2\\\\n\",\\n    \"var1\"\\n   ]\\n  },\\n  {\\n   \"cell_type\": \"code\",\\n   \"execution_count\": null,\\n   \"metadata\": {},\\n   \"outputs\": [],\\n   \"source\": [\\n    \"var2 = var1\"\\n   ]\\n  },\\n  {\\n   \"cell_type\": \"code\",\\n   \"execution_count\": null,\\n   \"metadata\": {},\\n   \"outputs\": [],\\n   \"source\": [\\n    \"var2 = \\\\\"3.3\\\\\"    # now changed type\\\\n\",\\n    \"var2\"\\n   ]\\n  },\\n  {\\n   \"cell_type\": \"code\",\\n   \"execution_count\": null,\\n   \"metadata\": {},\\n   \"outputs\": [],\\n   \"source\": [\\n    \"var1     # var1 stays the same, when we change var2 (numeric type)\"\\n   ]\\n  },\\n  {\\n   \"cell_type\": \"code\",\\n   \"execution_count\": null,\\n   \"metadata\": {},\\n   \"outputs\": [],\\n   \"source\": [\\n    \"type(var1)\"\\n   ]\\n  },\\n  {\\n   \"cell_type\": \"markdown\",\\n   \"metadata\": {},\\n   \"source\": [\\n    \"## Lists\"\\n   ]\\n  },\\n  {\\n   \"cell_type\": \"code\",\\n   \"execution_count\": null,\\n   \"metadata\": {},\\n   \"outputs\": [],\\n   \"source\": [\\n    \"# A list is created with [..,..]\\\\n\",\\n    \"myvals = [1.0, 2.0, 1.5]\\\\n\",\\n    \"myvals\"\\n   ]\\n  },\\n  {\\n   \"cell_type\": \"code\",\\n   \"execution_count\": null,\\n   \"metadata\": {},\\n   \"outputs\": [],\\n   \"source\": [\\n    \"myvals[0]\"\\n   ]\\n  },\\n  {\\n   \"cell_type\": \"code\",\\n   \"execution_count\": null,\\n   \"metadata\": {},\\n   \"outputs\": [],\\n   \"source\": [\\n    \"myvals2 = myvals     # this is *not* a copy!\"\\n   ]\\n  },\\n  {\\n   \"cell_type\": \"code\",\\n   \"execution_count\": null,\\n   \"metadata\": {},\\n   \"outputs\": [],\\n   \"source\": [\\n    \"myvals2[1] = 3.3\"\\n   ]\\n  },\\n  {\\n   \"cell_type\": \"code\",\\n   \"execution_count\": null,\\n   \"metadata\": {},\\n   \"outputs\": [],\\n   \"source\": [\\n    \"myvals     # myvals has also changed! (myvals and myvals2 reference the same object)\"\\n   ]\\n  },\\n  {\\n   \"cell_type\": \"code\",\\n   \"execution_count\": null,\\n   \"metadata\": {},\\n   \"outputs\": [],\\n   \"source\": [\\n    \"id(myvals) == id(myvals2)     \"\\n   ]\\n  },\\n  {\\n   \"cell_type\": \"code\",\\n   \"execution_count\": null,\\n   \"metadata\": {},\\n   \"outputs\": [],\\n   \"source\": [\\n    \"# lists can contain all sorts of different variables\\\\n\",\\n    \"stuff = [5, 3.0, \\\\\"MIKE ZERO\\\\\", b\\'a\\', [1,2]]\"\\n   ]\\n  },\\n  {\\n   \"cell_type\": \"code\",\\n   \"execution_count\": null,\\n   \"metadata\": {},\\n   \"outputs\": [],\\n   \"source\": [\\n    \"type(stuff[0])\"\\n   ]\\n  },\\n  {\\n   \"cell_type\": \"markdown\",\\n   \"metadata\": {},\\n   \"source\": [\\n    \"## Tuple\\\\n\",\\n    \"Tuples are similar to lists but immutable (once they are created they cannot be changed).\"\\n   ]\\n  },\\n  {\\n   \"cell_type\": \"code\",\\n   \"execution_count\": null,\\n   \"metadata\": {},\\n   \"outputs\": [],\\n   \"source\": [\\n    \"my_tuple = (34, 0.2, \\\\\"txt\\\\\")\\\\n\",\\n    \"my_tuple\"\\n   ]\\n  },\\n  {\\n   \"cell_type\": \"code\",\\n   \"execution_count\": null,\\n   \"metadata\": {},\\n   \"outputs\": [],\\n   \"source\": [\\n    \"my_tuple[2]\"\\n   ]\\n  },\\n  {\\n   \"cell_type\": \"code\",\\n   \"execution_count\": null,\\n   \"metadata\": {},\\n   \"outputs\": [],\\n   \"source\": [\\n    \"my_tuple[2] = \\'new_txt\\'   # this will fail\"\\n   ]\\n  },\\n  {\\n   \"cell_type\": \"markdown\",\\n   \"metadata\": {},\\n   \"source\": [\\n    \"## Dictionary\"\\n   ]\\n  },\\n  {\\n   \"cell_type\": \"code\",\\n   \"execution_count\": null,\\n   \"metadata\": {},\\n   \"outputs\": [],\\n   \"source\": [\\n    \"fruits = {\\'banana\\':4, \\'apple\\':7}\\\\n\",\\n    \"fruits\"\\n   ]\\n  },\\n  {\\n   \"cell_type\": \"code\",\\n   \"execution_count\": null,\\n   \"metadata\": {},\\n   \"outputs\": [],\\n   \"source\": [\\n    \"fruits[\\'orange\\'] = 9\\\\n\",\\n    \"fruits\"\\n   ]\\n  },\\n  {\\n   \"cell_type\": \"code\",\\n   \"execution_count\": null,\\n   \"metadata\": {},\\n   \"outputs\": [],\\n   \"source\": [\\n    \"fruits.keys()\"\\n   ]\\n  },\\n  {\\n   \"cell_type\": \"code\",\\n   \"execution_count\": null,\\n   \"metadata\": {},\\n   \"outputs\": [],\\n   \"source\": [\\n    \"fruits[\\'banana\\']\"\\n   ]\\n  },\\n  {\\n   \"cell_type\": \"code\",\\n   \"execution_count\": null,\\n   \"metadata\": {},\\n   \"outputs\": [],\\n   \"source\": [\\n    \"fruits.values()\"\\n   ]\\n  },\\n  {\\n   \"cell_type\": \"code\",\\n   \"execution_count\": null,\\n   \"metadata\": {},\\n   \"outputs\": [],\\n   \"source\": [\\n    \"fruits.items()\"\\n   ]\\n  },\\n  {\\n   \"cell_type\": \"markdown\",\\n   \"metadata\": {},\\n   \"source\": [\\n    \"## Control structures\\\\n\",\\n    \"\\\\n\",\\n    \"Notice the colons and identation! \\\\n\",\\n    \"\\\\n\",\\n    \"* [Python conditions](https://www.w3schools.com/python/python_conditions.asp)\\\\n\",\\n    \"* [Python for loop](https://www.w3schools.com/python/python_for_loops.asp)\"\\n   ]\\n  },\\n  {\\n   \"cell_type\": \"code\",\\n   \"execution_count\": null,\\n   \"metadata\": {},\\n   \"outputs\": [],\\n   \"source\": [\\n    \"i_am = \\'ok\\'\\\\n\",\\n    \"if i_am == \\'ok\\':\\\\n\",\\n    \"    print(\\'You are ok\\')\\\\n\",\\n    \"elif i_am == \\'great\\':\\\\n\",\\n    \"    print(\\'You are great\\')\\\\n\",\\n    \"else:\\\\n\",\\n    \"    print(\\\\\"I don\\'t know how you are!\\\\\")\"\\n   ]\\n  },\\n  {\\n   \"cell_type\": \"code\",\\n   \"execution_count\": null,\\n   \"metadata\": {},\\n   \"outputs\": [],\\n   \"source\": [\\n    \"for j in range(3):\\\\n\",\\n    \"    print(j)\"\\n   ]\\n  },\\n  {\\n   \"cell_type\": \"code\",\\n   \"execution_count\": null,\\n   \"metadata\": {},\\n   \"outputs\": [],\\n   \"source\": [\\n    \"names = [\\'Carl\\',\\'Chan\\',\\'Clarice\\']\\\\n\",\\n    \"for name in names:\\\\n\",\\n    \"    print(f\\'Hi {name}!\\')\"\\n   ]\\n  },\\n  {\\n   \"cell_type\": \"markdown\",\\n   \"metadata\": {},\\n   \"source\": [\\n    \"A loop can also be expressed using special syntax known as a list comprehension.\"\\n   ]\\n  },\\n  {\\n   \"cell_type\": \"code\",\\n   \"execution_count\": null,\\n   \"metadata\": {},\\n   \"outputs\": [],\\n   \"source\": [\\n    \"lnames = [name.lower() for name in names]\\\\n\",\\n    \"lnames\"\\n   ]\\n  },\\n  {\\n   \"cell_type\": \"markdown\",\\n   \"metadata\": {},\\n   \"source\": [\\n    \"## Functions\\\\n\",\\n    \"\\\\n\",\\n    \"It is very useful to create your own functions to collect code that belongs together in a function, which can be reused in several places in your code without copying and pasting the entire snippet. \"\\n   ]\\n  },\\n  {\\n   \"cell_type\": \"code\",\\n   \"execution_count\": null,\\n   \"metadata\": {},\\n   \"outputs\": [],\\n   \"source\": [\\n    \"import re\\\\n\",\\n    \"\\\\n\",\\n    \"def clean_name(name):\\\\n\",\\n    \"    \\\\\"Clean and short name\\\\\"\\\\n\",\\n    \"    clean = re.sub(\\'[^A-Za-z0-9]+\\', \\'\\', name)\\\\n\",\\n    \"    short = clean[:15]\\\\n\",\\n    \"    lower = short.lower()\\\\n\",\\n    \"    return lower\"\\n   ]\\n  },\\n  {\\n   \"cell_type\": \"code\",\\n   \"execution_count\": null,\\n   \"metadata\": {},\\n   \"outputs\": [],\\n   \"source\": [\\n    \"clean_name(\\\\\"#What a lousy & long name\\\\\")\"\\n   ]\\n  },\\n  {\\n   \"cell_type\": \"code\",\\n   \"execution_count\": null,\\n   \"metadata\": {},\\n   \"outputs\": [],\\n   \"source\": [\\n    \"clean_name(\\\\\"goodname\\\\\")\"\\n   ]\\n  },\\n  {\\n   \"cell_type\": \"code\",\\n   \"execution_count\": null,\\n   \"metadata\": {},\\n   \"outputs\": [],\\n   \"source\": [\\n    \"long_and_ugly_names = [\\\\\"Wave Height # Modelled\\\\\", \\\\\"Wave Period # Modelled\\\\\", \\\\\"Wave Direction # Modelled\\\\\"]\"\\n   ]\\n  },\\n  {\\n   \"cell_type\": \"markdown\",\\n   \"metadata\": {},\\n   \"source\": [\\n    \"Combine a list comprehension with your own function\"\\n   ]\\n  },\\n  {\\n   \"cell_type\": \"code\",\\n   \"execution_count\": null,\\n   \"metadata\": {},\\n   \"outputs\": [],\\n   \"source\": [\\n    \"[clean_name(x) for x in long_and_ugly_names]\"\\n   ]\\n  },\\n  {\\n   \"cell_type\": \"code\",\\n   \"execution_count\": null,\\n   \"metadata\": {},\\n   \"outputs\": [],\\n   \"source\": []\\n  }\\n ],\\n \"metadata\": {\\n  \"interpreter\": {\\n   \"hash\": \"f4041ee05ab07c15354d6207e763f17a216c3f5ccf08906343c2b4fd3fa7a6fb\"\\n  },\\n  \"kernelspec\": {\\n   \"display_name\": \"Python 3 (ipykernel)\",\\n   \"language\": \"python\",\\n   \"name\": \"python3\"\\n  },\\n  \"language_info\": {\\n   \"codemirror_mode\": {\\n    \"name\": \"ipython\",\\n    \"version\": 3\\n   },\\n   \"file_extension\": \".py\",\\n   \"mimetype\": \"text/x-python\",\\n   \"name\": \"python\",\\n   \"nbconvert_exporter\": \"python\",\\n   \"pygments_lexer\": \"ipython3\",\\n   \"version\": \"3.9.6\"\\n  }\\n },\\n \"nbformat\": 4,\\n \"nbformat_minor\": 4\\n}\\n'"
      ]
     },
     "execution_count": 48,
     "metadata": {},
     "output_type": "execute_result"
    }
   ],
   "source": [
    "documents[0].page_content\t"
   ]
  },
  {
   "cell_type": "code",
   "execution_count": null,
   "metadata": {},
   "outputs": [],
   "source": [
    "\n",
    "text_splitter = CharacterTextSplitter(separator=separator, \n",
    "                                      chunk_size=chunk_size_limit, \n",
    "                                      chunk_overlap=max_chunk_overlap)\n",
    "split_docs = text_splitter.split_documents(documents)"
   ]
  }
 ],
 "metadata": {
  "kernelspec": {
   "display_name": "base",
   "language": "python",
   "name": "python3"
  },
  "language_info": {
   "codemirror_mode": {
    "name": "ipython",
    "version": 3
   },
   "file_extension": ".py",
   "mimetype": "text/x-python",
   "name": "python",
   "nbconvert_exporter": "python",
   "pygments_lexer": "ipython3",
   "version": "3.11.3"
  },
  "orig_nbformat": 4
 },
 "nbformat": 4,
 "nbformat_minor": 2
}
